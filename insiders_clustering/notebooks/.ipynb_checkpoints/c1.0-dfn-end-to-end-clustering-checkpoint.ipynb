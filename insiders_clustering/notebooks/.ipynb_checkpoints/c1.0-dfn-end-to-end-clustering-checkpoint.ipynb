{
 "cells": [
  {
   "cell_type": "markdown",
   "metadata": {},
   "source": [
    "# 0.0 IMPORTS"
   ]
  },
  {
   "cell_type": "code",
   "execution_count": 1,
   "metadata": {
    "ExecuteTime": {
     "end_time": "2021-04-12T22:17:21.506123Z",
     "start_time": "2021-04-12T22:17:06.239747Z"
    }
   },
   "outputs": [],
   "source": [
    "import pandas as pd\n",
    "import numpy as np\n",
    "import inflection"
   ]
  },
  {
   "cell_type": "markdown",
   "metadata": {},
   "source": [
    "## 0.2 Helper Functions"
   ]
  },
  {
   "cell_type": "markdown",
   "metadata": {},
   "source": [
    "## 0.3 Load Data"
   ]
  },
  {
   "cell_type": "code",
   "execution_count": 2,
   "metadata": {
    "ExecuteTime": {
     "end_time": "2021-04-12T22:17:22.538244Z",
     "start_time": "2021-04-12T22:17:21.515056Z"
    }
   },
   "outputs": [],
   "source": [
    "df_raw = pd.read_csv( 'Ecommerce.csv', encoding='cp1252' )"
   ]
  },
  {
   "cell_type": "code",
   "execution_count": 3,
   "metadata": {
    "ExecuteTime": {
     "end_time": "2021-04-12T22:17:22.787230Z",
     "start_time": "2021-04-12T22:17:22.540223Z"
    }
   },
   "outputs": [
    {
     "data": {
      "text/html": [
       "<div>\n",
       "<style scoped>\n",
       "    .dataframe tbody tr th:only-of-type {\n",
       "        vertical-align: middle;\n",
       "    }\n",
       "\n",
       "    .dataframe tbody tr th {\n",
       "        vertical-align: top;\n",
       "    }\n",
       "\n",
       "    .dataframe thead th {\n",
       "        text-align: right;\n",
       "    }\n",
       "</style>\n",
       "<table border=\"1\" class=\"dataframe\">\n",
       "  <thead>\n",
       "    <tr style=\"text-align: right;\">\n",
       "      <th></th>\n",
       "      <th>InvoiceNo</th>\n",
       "      <th>StockCode</th>\n",
       "      <th>Description</th>\n",
       "      <th>Quantity</th>\n",
       "      <th>InvoiceDate</th>\n",
       "      <th>UnitPrice</th>\n",
       "      <th>CustomerID</th>\n",
       "      <th>Country</th>\n",
       "      <th>Unnamed: 8</th>\n",
       "    </tr>\n",
       "  </thead>\n",
       "  <tbody>\n",
       "    <tr>\n",
       "      <th>201694</th>\n",
       "      <td>554310</td>\n",
       "      <td>84596B</td>\n",
       "      <td>SMALL DOLLY MIX DESIGN ORANGE BOWL</td>\n",
       "      <td>1</td>\n",
       "      <td>21-May-17</td>\n",
       "      <td>0.83</td>\n",
       "      <td>NaN</td>\n",
       "      <td>United Kingdom</td>\n",
       "      <td>NaN</td>\n",
       "    </tr>\n",
       "    <tr>\n",
       "      <th>444266</th>\n",
       "      <td>574722</td>\n",
       "      <td>22098</td>\n",
       "      <td>BOUDOIR SQUARE TISSUE BOX</td>\n",
       "      <td>8</td>\n",
       "      <td>4-Nov-17</td>\n",
       "      <td>0.39</td>\n",
       "      <td>14502.0</td>\n",
       "      <td>United Kingdom</td>\n",
       "      <td>NaN</td>\n",
       "    </tr>\n",
       "    <tr>\n",
       "      <th>285292</th>\n",
       "      <td>561900</td>\n",
       "      <td>22712</td>\n",
       "      <td>CARD DOLLY GIRL</td>\n",
       "      <td>12</td>\n",
       "      <td>29-Jul-17</td>\n",
       "      <td>0.42</td>\n",
       "      <td>16655.0</td>\n",
       "      <td>United Kingdom</td>\n",
       "      <td>NaN</td>\n",
       "    </tr>\n",
       "    <tr>\n",
       "      <th>389177</th>\n",
       "      <td>570465</td>\n",
       "      <td>23061</td>\n",
       "      <td>VINTAGE EMBOSSED HEART</td>\n",
       "      <td>1</td>\n",
       "      <td>8-Oct-17</td>\n",
       "      <td>2.46</td>\n",
       "      <td>NaN</td>\n",
       "      <td>United Kingdom</td>\n",
       "      <td>NaN</td>\n",
       "    </tr>\n",
       "    <tr>\n",
       "      <th>198335</th>\n",
       "      <td>554031</td>\n",
       "      <td>23089</td>\n",
       "      <td>GLASS BON BON JAR</td>\n",
       "      <td>12</td>\n",
       "      <td>18-May-17</td>\n",
       "      <td>1.65</td>\n",
       "      <td>16497.0</td>\n",
       "      <td>United Kingdom</td>\n",
       "      <td>NaN</td>\n",
       "    </tr>\n",
       "    <tr>\n",
       "      <th>293289</th>\n",
       "      <td>562593</td>\n",
       "      <td>20659</td>\n",
       "      <td>ECONOMY LUGGAGE TAG</td>\n",
       "      <td>2</td>\n",
       "      <td>5-Aug-17</td>\n",
       "      <td>1.25</td>\n",
       "      <td>16549.0</td>\n",
       "      <td>United Kingdom</td>\n",
       "      <td>NaN</td>\n",
       "    </tr>\n",
       "    <tr>\n",
       "      <th>222325</th>\n",
       "      <td>556416</td>\n",
       "      <td>22620</td>\n",
       "      <td>4 TRADITIONAL SPINNING TOPS</td>\n",
       "      <td>1</td>\n",
       "      <td>8-Jun-17</td>\n",
       "      <td>1.45</td>\n",
       "      <td>15527.0</td>\n",
       "      <td>United Kingdom</td>\n",
       "      <td>NaN</td>\n",
       "    </tr>\n",
       "    <tr>\n",
       "      <th>219013</th>\n",
       "      <td>556081</td>\n",
       "      <td>21876</td>\n",
       "      <td>POTTERING MUG</td>\n",
       "      <td>1</td>\n",
       "      <td>6-Jun-17</td>\n",
       "      <td>3.29</td>\n",
       "      <td>NaN</td>\n",
       "      <td>United Kingdom</td>\n",
       "      <td>NaN</td>\n",
       "    </tr>\n",
       "    <tr>\n",
       "      <th>97327</th>\n",
       "      <td>544599</td>\n",
       "      <td>22178</td>\n",
       "      <td>VICTORIAN GLASS HANGING T-LIGHT</td>\n",
       "      <td>4</td>\n",
       "      <td>19-Feb-17</td>\n",
       "      <td>2.46</td>\n",
       "      <td>NaN</td>\n",
       "      <td>United Kingdom</td>\n",
       "      <td>NaN</td>\n",
       "    </tr>\n",
       "    <tr>\n",
       "      <th>70795</th>\n",
       "      <td>542102</td>\n",
       "      <td>22655</td>\n",
       "      <td>VINTAGE RED KITCHEN CABINET</td>\n",
       "      <td>2</td>\n",
       "      <td>23-Jan-17</td>\n",
       "      <td>125.00</td>\n",
       "      <td>12744.0</td>\n",
       "      <td>Singapore</td>\n",
       "      <td>NaN</td>\n",
       "    </tr>\n",
       "  </tbody>\n",
       "</table>\n",
       "</div>"
      ],
      "text/plain": [
       "       InvoiceNo StockCode                         Description  Quantity  \\\n",
       "201694    554310    84596B  SMALL DOLLY MIX DESIGN ORANGE BOWL         1   \n",
       "444266    574722     22098           BOUDOIR SQUARE TISSUE BOX         8   \n",
       "285292    561900     22712                    CARD DOLLY GIRL         12   \n",
       "389177    570465     23061              VINTAGE EMBOSSED HEART         1   \n",
       "198335    554031     23089                   GLASS BON BON JAR        12   \n",
       "293289    562593     20659                 ECONOMY LUGGAGE TAG         2   \n",
       "222325    556416     22620         4 TRADITIONAL SPINNING TOPS         1   \n",
       "219013    556081     21876                       POTTERING MUG         1   \n",
       "97327     544599     22178     VICTORIAN GLASS HANGING T-LIGHT         4   \n",
       "70795     542102     22655         VINTAGE RED KITCHEN CABINET         2   \n",
       "\n",
       "       InvoiceDate  UnitPrice  CustomerID         Country  Unnamed: 8  \n",
       "201694   21-May-17       0.83         NaN  United Kingdom         NaN  \n",
       "444266    4-Nov-17       0.39     14502.0  United Kingdom         NaN  \n",
       "285292   29-Jul-17       0.42     16655.0  United Kingdom         NaN  \n",
       "389177    8-Oct-17       2.46         NaN  United Kingdom         NaN  \n",
       "198335   18-May-17       1.65     16497.0  United Kingdom         NaN  \n",
       "293289    5-Aug-17       1.25     16549.0  United Kingdom         NaN  \n",
       "222325    8-Jun-17       1.45     15527.0  United Kingdom         NaN  \n",
       "219013    6-Jun-17       3.29         NaN  United Kingdom         NaN  \n",
       "97327    19-Feb-17       2.46         NaN  United Kingdom         NaN  \n",
       "70795    23-Jan-17     125.00     12744.0       Singapore         NaN  "
      ]
     },
     "execution_count": 3,
     "metadata": {},
     "output_type": "execute_result"
    }
   ],
   "source": [
    "df_raw.sample(10)"
   ]
  },
  {
   "cell_type": "markdown",
   "metadata": {},
   "source": [
    "# 1.0 DATA DESCRIPTION"
   ]
  },
  {
   "cell_type": "markdown",
   "metadata": {},
   "source": [
    "## Attribute Description\n",
    "InvoiceNo Invoice number (A 6-digit integral number uniquely assigned to each transaction)\n",
    "\n",
    "StockCode Product (item) code\n",
    "\n",
    "Description Product (item) name\n",
    "\n",
    "Quantity The quantities of each product (item) per transaction\n",
    "\n",
    "InvoiceDate The day when each transaction was generated\n",
    "\n",
    "UnitPrice Unit price (Product price per unit)\n",
    "\n",
    "CustomerID Customer number (Unique ID assigned to each customer)\n",
    "\n",
    "Country Country name (The name of the country where each customer resides)\n",
    "\n",
    "Analysis tasks to be performed:\n",
    "\n",
    "Use the clustering methodology to segment customers into groups:\n",
    "\n",
    "Use the following clustering algorithms:"
   ]
  },
  {
   "cell_type": "code",
   "execution_count": 4,
   "metadata": {
    "ExecuteTime": {
     "end_time": "2021-04-12T22:17:22.818653Z",
     "start_time": "2021-04-12T22:17:22.788934Z"
    }
   },
   "outputs": [],
   "source": [
    "df1 = df_raw.copy()"
   ]
  },
  {
   "cell_type": "markdown",
   "metadata": {},
   "source": [
    "## 1.1 Rename Columns"
   ]
  },
  {
   "cell_type": "code",
   "execution_count": 5,
   "metadata": {
    "ExecuteTime": {
     "end_time": "2021-04-12T22:17:23.085969Z",
     "start_time": "2021-04-12T22:17:22.827611Z"
    }
   },
   "outputs": [],
   "source": [
    "df1.drop('Unnamed: 8', axis=1, inplace=True)"
   ]
  },
  {
   "cell_type": "code",
   "execution_count": 6,
   "metadata": {
    "ExecuteTime": {
     "end_time": "2021-04-12T22:17:23.147581Z",
     "start_time": "2021-04-12T22:17:23.086942Z"
    }
   },
   "outputs": [],
   "source": [
    "# List of columns name\n",
    "old_columns = ['InvoiceNo', 'StockCode', 'Description', 'Quantity', 'InvoiceDate',\n",
    "       'UnitPrice', 'CustomerID', 'Country']\n",
    "\n",
    "# Change to snakecase\n",
    "snakecase = lambda x: inflection.underscore( x )\n",
    "\n",
    "new_columns = list( map( snakecase, old_columns ) )\n",
    "\n",
    "df1.columns = new_columns"
   ]
  },
  {
   "cell_type": "code",
   "execution_count": 7,
   "metadata": {
    "ExecuteTime": {
     "end_time": "2021-04-12T22:17:23.287273Z",
     "start_time": "2021-04-12T22:17:23.148557Z"
    }
   },
   "outputs": [
    {
     "data": {
      "text/plain": [
       "Index(['invoice_no', 'stock_code', 'description', 'quantity', 'invoice_date',\n",
       "       'unit_price', 'customer_id', 'country'],\n",
       "      dtype='object')"
      ]
     },
     "execution_count": 7,
     "metadata": {},
     "output_type": "execute_result"
    }
   ],
   "source": [
    "df1.columns"
   ]
  },
  {
   "cell_type": "markdown",
   "metadata": {},
   "source": [
    "## 1.2 Data Dimension"
   ]
  },
  {
   "cell_type": "code",
   "execution_count": 8,
   "metadata": {
    "ExecuteTime": {
     "end_time": "2021-04-12T22:17:23.380199Z",
     "start_time": "2021-04-12T22:17:23.289273Z"
    }
   },
   "outputs": [
    {
     "name": "stdout",
     "output_type": "stream",
     "text": [
      "Number of Rows: 541909\n",
      "Number of Columns: 8\n"
     ]
    }
   ],
   "source": [
    "print( 'Number of Rows: {}'.format( df1.shape[0] ) )\n",
    "print( 'Number of Columns: {}'.format( df1.shape[1] ) )"
   ]
  },
  {
   "cell_type": "markdown",
   "metadata": {},
   "source": [
    "## 1.3 Data Types"
   ]
  },
  {
   "cell_type": "code",
   "execution_count": 9,
   "metadata": {
    "ExecuteTime": {
     "end_time": "2021-04-12T22:17:23.473881Z",
     "start_time": "2021-04-12T22:17:23.382157Z"
    }
   },
   "outputs": [
    {
     "data": {
      "text/plain": [
       "invoice_no       object\n",
       "stock_code       object\n",
       "description      object\n",
       "quantity          int64\n",
       "invoice_date     object\n",
       "unit_price      float64\n",
       "customer_id     float64\n",
       "country          object\n",
       "dtype: object"
      ]
     },
     "execution_count": 9,
     "metadata": {},
     "output_type": "execute_result"
    }
   ],
   "source": [
    "df1.dtypes"
   ]
  },
  {
   "cell_type": "code",
   "execution_count": 10,
   "metadata": {
    "ExecuteTime": {
     "end_time": "2021-04-12T22:17:23.849941Z",
     "start_time": "2021-04-12T22:17:23.475650Z"
    }
   },
   "outputs": [],
   "source": [
    "# Convert an object column to datetime\n",
    "df1['invoice_date'] = pd.to_datetime( df1['invoice_date'] )"
   ]
  },
  {
   "cell_type": "markdown",
   "metadata": {},
   "source": [
    "## 1.4 Check NA"
   ]
  },
  {
   "cell_type": "code",
   "execution_count": 11,
   "metadata": {
    "ExecuteTime": {
     "end_time": "2021-04-12T22:17:23.975263Z",
     "start_time": "2021-04-12T22:17:23.851020Z"
    }
   },
   "outputs": [
    {
     "data": {
      "text/plain": [
       "invoice_no           0\n",
       "stock_code           0\n",
       "description       1454\n",
       "quantity             0\n",
       "invoice_date         0\n",
       "unit_price           0\n",
       "customer_id     135080\n",
       "country              0\n",
       "dtype: int64"
      ]
     },
     "execution_count": 11,
     "metadata": {},
     "output_type": "execute_result"
    }
   ],
   "source": [
    "df1.isna().sum()"
   ]
  },
  {
   "cell_type": "markdown",
   "metadata": {},
   "source": [
    "## 1.6 Change Dtypes"
   ]
  },
  {
   "cell_type": "markdown",
   "metadata": {},
   "source": [
    "## 1.7 Descriptive Statistical"
   ]
  },
  {
   "cell_type": "code",
   "execution_count": 12,
   "metadata": {
    "ExecuteTime": {
     "end_time": "2021-04-12T22:17:24.097401Z",
     "start_time": "2021-04-12T22:17:23.977273Z"
    }
   },
   "outputs": [],
   "source": [
    "num_attributes = df1.select_dtypes( include=['int64', 'float64'] )\n",
    "cat_attributes = df1.select_dtypes( include=['object', 'datetime64[ns]'] )"
   ]
  },
  {
   "cell_type": "markdown",
   "metadata": {},
   "source": [
    "### 1.7.1 Numerical Attributes"
   ]
  },
  {
   "cell_type": "code",
   "execution_count": null,
   "metadata": {
    "ExecuteTime": {
     "end_time": "2021-04-12T22:27:49.579534Z",
     "start_time": "2021-04-12T22:27:49.193534Z"
    }
   },
   "outputs": [],
   "source": [
    "# Central tendency - Mean, median\n",
    "ct1 = pd.DataFrame( np.mean(num_attributes) ).T\n",
    "\n",
    "ct2 = pd.DataFrame( num_attributes.apply( np.median ) ).T\n",
    "\n",
    "# Dispersion - std, min , max, range, skew, kurtosis\n",
    "\n",
    "std = pd.DataFrame( np.std( num_attributes ) )\n",
    "min_ = pd.DataFrame( np.min( num_attributes ) )\n",
    "max_ = pd.DataFrame( np.max( num_attributes ) )\n",
    "\n",
    "\n",
    "\n",
    "# Concatenate\n",
    "df1_aux = pd.concat( ct1, ct2, join='inner' )\n",
    "\n"
   ]
  },
  {
   "cell_type": "code",
   "execution_count": 16,
   "metadata": {
    "ExecuteTime": {
     "end_time": "2021-04-12T22:22:59.894501Z",
     "start_time": "2021-04-12T22:22:59.881503Z"
    }
   },
   "outputs": [
    {
     "data": {
      "text/html": [
       "<div>\n",
       "<style scoped>\n",
       "    .dataframe tbody tr th:only-of-type {\n",
       "        vertical-align: middle;\n",
       "    }\n",
       "\n",
       "    .dataframe tbody tr th {\n",
       "        vertical-align: top;\n",
       "    }\n",
       "\n",
       "    .dataframe thead th {\n",
       "        text-align: right;\n",
       "    }\n",
       "</style>\n",
       "<table border=\"1\" class=\"dataframe\">\n",
       "  <thead>\n",
       "    <tr style=\"text-align: right;\">\n",
       "      <th></th>\n",
       "      <th>0</th>\n",
       "    </tr>\n",
       "  </thead>\n",
       "  <tbody>\n",
       "    <tr>\n",
       "      <th>quantity</th>\n",
       "      <td>218.080957</td>\n",
       "    </tr>\n",
       "    <tr>\n",
       "      <th>unit_price</th>\n",
       "      <td>96.759764</td>\n",
       "    </tr>\n",
       "    <tr>\n",
       "      <th>customer_id</th>\n",
       "      <td>1713.598197</td>\n",
       "    </tr>\n",
       "  </tbody>\n",
       "</table>\n",
       "</div>"
      ],
      "text/plain": [
       "                       0\n",
       "quantity      218.080957\n",
       "unit_price     96.759764\n",
       "customer_id  1713.598197"
      ]
     },
     "execution_count": 16,
     "metadata": {},
     "output_type": "execute_result"
    }
   ],
   "source": [
    "std"
   ]
  },
  {
   "cell_type": "code",
   "execution_count": null,
   "metadata": {},
   "outputs": [],
   "source": []
  },
  {
   "cell_type": "code",
   "execution_count": null,
   "metadata": {},
   "outputs": [],
   "source": []
  }
 ],
 "metadata": {
  "kernelspec": {
   "display_name": "Python 3",
   "language": "python",
   "name": "python3"
  },
  "language_info": {
   "codemirror_mode": {
    "name": "ipython",
    "version": 3
   },
   "file_extension": ".py",
   "mimetype": "text/x-python",
   "name": "python",
   "nbconvert_exporter": "python",
   "pygments_lexer": "ipython3",
   "version": "3.8.5"
  }
 },
 "nbformat": 4,
 "nbformat_minor": 5
}
